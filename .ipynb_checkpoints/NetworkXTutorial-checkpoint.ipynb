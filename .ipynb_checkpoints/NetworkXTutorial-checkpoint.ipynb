{
 "cells": [
  {
   "cell_type": "markdown",
   "id": "dangerous-rough",
   "metadata": {},
   "source": [
    "# IADS NetworkX Tutorial\n",
    "\n",
    "In this tutorial we will cover some of the commonly used features of NetworkX and the general workflow of constructing a graph. We will use a dataset of character co-occurrences in Lord of the Rings. In this dataset, the nodes are characters and edges represent co-occurrence within the same sentence in the books."
   ]
  },
  {
   "cell_type": "code",
   "execution_count": 1,
   "id": "silver-poison",
   "metadata": {},
   "outputs": [],
   "source": [
    "import pandas as pd\n",
    "import matplotlib.pyplot as plt\n",
    "import networkx as nx"
   ]
  },
  {
   "cell_type": "markdown",
   "id": "czech-delaware",
   "metadata": {},
   "source": [
    "## Reading in a dataset to construct a graph\n",
    "\n",
    "The dataset is called `lotr.csv` and it has 3 columns, the first two being the two characters and the third being the sentence in which they co-occur."
   ]
  },
  {
   "cell_type": "code",
   "execution_count": 5,
   "id": "featured-gospel",
   "metadata": {},
   "outputs": [
    {
     "data": {
      "text/html": [
       "<div>\n",
       "<style scoped>\n",
       "    .dataframe tbody tr th:only-of-type {\n",
       "        vertical-align: middle;\n",
       "    }\n",
       "\n",
       "    .dataframe tbody tr th {\n",
       "        vertical-align: top;\n",
       "    }\n",
       "\n",
       "    .dataframe thead th {\n",
       "        text-align: right;\n",
       "    }\n",
       "</style>\n",
       "<table border=\"1\" class=\"dataframe\">\n",
       "  <thead>\n",
       "    <tr style=\"text-align: right;\">\n",
       "      <th></th>\n",
       "      <th>source</th>\n",
       "      <th>target</th>\n",
       "      <th>time</th>\n",
       "    </tr>\n",
       "  </thead>\n",
       "  <tbody>\n",
       "    <tr>\n",
       "      <th>0</th>\n",
       "      <td>Gandalf</td>\n",
       "      <td>Elrond</td>\n",
       "      <td>33</td>\n",
       "    </tr>\n",
       "    <tr>\n",
       "      <th>1</th>\n",
       "      <td>Frodo</td>\n",
       "      <td>Bilbo</td>\n",
       "      <td>114</td>\n",
       "    </tr>\n",
       "    <tr>\n",
       "      <th>2</th>\n",
       "      <td>Blanco</td>\n",
       "      <td>Marcho</td>\n",
       "      <td>146</td>\n",
       "    </tr>\n",
       "    <tr>\n",
       "      <th>3</th>\n",
       "      <td>Frodo</td>\n",
       "      <td>Bilbo</td>\n",
       "      <td>205</td>\n",
       "    </tr>\n",
       "    <tr>\n",
       "      <th>4</th>\n",
       "      <td>Thorin</td>\n",
       "      <td>Gandalf</td>\n",
       "      <td>270</td>\n",
       "    </tr>\n",
       "    <tr>\n",
       "      <th>...</th>\n",
       "      <td>...</td>\n",
       "      <td>...</td>\n",
       "      <td>...</td>\n",
       "    </tr>\n",
       "    <tr>\n",
       "      <th>2644</th>\n",
       "      <td>Merry</td>\n",
       "      <td>Galadriel</td>\n",
       "      <td>32666</td>\n",
       "    </tr>\n",
       "    <tr>\n",
       "      <th>2645</th>\n",
       "      <td>Merry</td>\n",
       "      <td>Sam</td>\n",
       "      <td>32666</td>\n",
       "    </tr>\n",
       "    <tr>\n",
       "      <th>2646</th>\n",
       "      <td>Galadriel</td>\n",
       "      <td>Sam</td>\n",
       "      <td>32666</td>\n",
       "    </tr>\n",
       "    <tr>\n",
       "      <th>2647</th>\n",
       "      <td>Pippin</td>\n",
       "      <td>Merry</td>\n",
       "      <td>32671</td>\n",
       "    </tr>\n",
       "    <tr>\n",
       "      <th>2648</th>\n",
       "      <td>Pippin</td>\n",
       "      <td>Merry</td>\n",
       "      <td>32674</td>\n",
       "    </tr>\n",
       "  </tbody>\n",
       "</table>\n",
       "<p>2649 rows × 3 columns</p>\n",
       "</div>"
      ],
      "text/plain": [
       "         source     target   time\n",
       "0       Gandalf     Elrond     33\n",
       "1         Frodo      Bilbo    114\n",
       "2        Blanco     Marcho    146\n",
       "3         Frodo      Bilbo    205\n",
       "4        Thorin    Gandalf    270\n",
       "...         ...        ...    ...\n",
       "2644      Merry  Galadriel  32666\n",
       "2645      Merry        Sam  32666\n",
       "2646  Galadriel        Sam  32666\n",
       "2647     Pippin      Merry  32671\n",
       "2648     Pippin      Merry  32674\n",
       "\n",
       "[2649 rows x 3 columns]"
      ]
     },
     "metadata": {},
     "output_type": "display_data"
    }
   ],
   "source": [
    "df = pd.read_csv(\"lotr.csv\", names = [\"source\",\"target\",\"time\"])\n",
    "display(df)"
   ]
  },
  {
   "cell_type": "markdown",
   "id": "least-nevada",
   "metadata": {},
   "source": [
    "In this \"nice\" format, we can read this directly into networkx as a simple undirected graph using the `from_pandas_edgelist` function."
   ]
  },
  {
   "cell_type": "code",
   "execution_count": 4,
   "id": "convinced-harvest",
   "metadata": {},
   "outputs": [],
   "source": [
    "G = nx.from_pandas_edgelist(df)"
   ]
  },
  {
   "cell_type": "markdown",
   "id": "challenging-prize",
   "metadata": {},
   "source": [
    "## The Graph object\n",
    "\n",
    "The NetworkX graph object is equipped with many basic query functions to ask basic questions about the graph.\n",
    "\n",
    "### Number of nodes and edges"
   ]
  },
  {
   "cell_type": "code",
   "execution_count": 8,
   "id": "digital-beast",
   "metadata": {},
   "outputs": [
    {
     "name": "stdout",
     "output_type": "stream",
     "text": [
      "Number of Nodes: 139, Number of Edges: 634\n"
     ]
    }
   ],
   "source": [
    "n, m = len(G.nodes()), len(G.edges())\n",
    "\n",
    "print(\"Number of Nodes: \"+str(n)+\", Number of Edges: \"+str(m))"
   ]
  },
  {
   "cell_type": "markdown",
   "id": "voluntary-research",
   "metadata": {},
   "source": [
    "### Who is connected to whom\n",
    "\n",
    "Basic queries about whether two nodes are connected are possible via has_edge"
   ]
  },
  {
   "cell_type": "code",
   "execution_count": 15,
   "id": "prescription-waterproof",
   "metadata": {},
   "outputs": [
    {
     "name": "stdout",
     "output_type": "stream",
     "text": [
      "True\n",
      "False\n"
     ]
    }
   ],
   "source": [
    "print(G.has_edge(\"Frodo\",\"Pippin\"))\n",
    "print(G.has_edge(\"Arwen\",\"Pippin\"))"
   ]
  },
  {
   "cell_type": "markdown",
   "id": "matched-davis",
   "metadata": {},
   "source": [
    "### Neighbours\n",
    "Extract the neighbours of a given node. Careful, they use US not UK spelling of neighbour! ;) "
   ]
  },
  {
   "cell_type": "code",
   "execution_count": 17,
   "id": "awful-train",
   "metadata": {},
   "outputs": [
    {
     "name": "stdout",
     "output_type": "stream",
     "text": [
      "['Elrond', 'Thorin', 'Bilbo', 'Frodo', 'Sam', 'Merry', 'Fredegar', 'Tom', 'Pippin', 'Nob', 'Barliman', 'Glorfindel', 'Boromir', 'Galdor', 'Glóin', 'Gollum', 'Isildur', 'Saruman', 'Aragorn', 'Legolas', 'Gimli', 'Bill', 'Sauron', 'Fëanor', 'Peregrin', 'Daeron', 'Shadowfax', 'Treebeard', 'Galadriel', 'Wormtongue', 'Thengel', 'Helm', 'Erkenbrand', 'Faramir', 'Denethor', 'Beregond', 'Dúnhere', 'Hirgon', 'Éomer', 'Ecthelion', 'Amroth', 'Éowyn', 'Meriadoc', 'Imrahil', 'Meneldor', 'Nimloth', 'Samwise', 'Butterbur', 'Lotho']\n"
     ]
    }
   ],
   "source": [
    "print(list(G.neighbors(\"Gandalf\")))"
   ]
  },
  {
   "cell_type": "markdown",
   "id": "worst-smooth",
   "metadata": {},
   "source": [
    "### Iterating through nodes and edges: \n",
    "\n",
    "The Graph object allows you to iterate through both nodes and edges, and many algorithms you implement yourself might require you to do so."
   ]
  },
  {
   "cell_type": "markdown",
   "id": "amber-czech",
   "metadata": {},
   "source": [
    "## Visualisation"
   ]
  },
  {
   "cell_type": "markdown",
   "id": "russian-seven",
   "metadata": {},
   "source": [
    "## Degree and Centrality"
   ]
  },
  {
   "cell_type": "markdown",
   "id": "genetic-flesh",
   "metadata": {},
   "source": [
    "## Paths"
   ]
  },
  {
   "cell_type": "markdown",
   "id": "pressed-hamburg",
   "metadata": {},
   "source": [
    "## Communities"
   ]
  },
  {
   "cell_type": "markdown",
   "id": "casual-spice",
   "metadata": {},
   "source": [
    "## Bonus"
   ]
  }
 ],
 "metadata": {
  "kernelspec": {
   "display_name": "Python 3",
   "language": "python",
   "name": "python3"
  },
  "language_info": {
   "codemirror_mode": {
    "name": "ipython",
    "version": 3
   },
   "file_extension": ".py",
   "mimetype": "text/x-python",
   "name": "python",
   "nbconvert_exporter": "python",
   "pygments_lexer": "ipython3",
   "version": "3.9.0"
  }
 },
 "nbformat": 4,
 "nbformat_minor": 5
}
